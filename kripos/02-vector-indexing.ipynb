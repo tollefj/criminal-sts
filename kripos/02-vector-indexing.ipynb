{
 "cells": [
  {
   "attachments": {},
   "cell_type": "markdown",
   "metadata": {},
   "source": [
    "# Autofaiss vector indexing"
   ]
  },
  {
   "cell_type": "code",
   "execution_count": 1,
   "metadata": {},
   "outputs": [
    {
     "data": {
      "application/vnd.jupyter.widget-view+json": {
       "model_id": "53dd9fc6279545678fb0f9109d7267a1",
       "version_major": 2,
       "version_minor": 0
      },
      "text/plain": [
       "Downloading readme:   0%|          | 0.00/610 [00:00<?, ?B/s]"
      ]
     },
     "metadata": {},
     "output_type": "display_data"
    },
    {
     "data": {
      "application/vnd.jupyter.widget-view+json": {
       "model_id": "21d55f9b3dbf453aa273570b6689a3e2",
       "version_major": 2,
       "version_minor": 0
      },
      "text/plain": [
       "Downloading data files:   0%|          | 0/1 [00:00<?, ?it/s]"
      ]
     },
     "metadata": {},
     "output_type": "display_data"
    },
    {
     "data": {
      "application/vnd.jupyter.widget-view+json": {
       "model_id": "ce35c1009aeb44e0bd3d4d79b7106559",
       "version_major": 2,
       "version_minor": 0
      },
      "text/plain": [
       "Downloading data:   0%|          | 0.00/71.1M [00:00<?, ?B/s]"
      ]
     },
     "metadata": {},
     "output_type": "display_data"
    },
    {
     "data": {
      "application/vnd.jupyter.widget-view+json": {
       "model_id": "38b359b8bd634b1c8855678f2f2ad3d8",
       "version_major": 2,
       "version_minor": 0
      },
      "text/plain": [
       "Extracting data files:   0%|          | 0/1 [00:00<?, ?it/s]"
      ]
     },
     "metadata": {},
     "output_type": "display_data"
    },
    {
     "data": {
      "application/vnd.jupyter.widget-view+json": {
       "model_id": "a1ceb44a1261418ab4fdcf97a7bf1207",
       "version_major": 2,
       "version_minor": 0
      },
      "text/plain": [
       "Generating train split:   0%|          | 0/100 [00:00<?, ? examples/s]"
      ]
     },
     "metadata": {},
     "output_type": "display_data"
    }
   ],
   "source": [
    "# use a precomputed 100 samples dataset:\n",
    "from datasets import load_dataset\n",
    "dataset = load_dataset(\"tollefj/rettsavgjoerelser_100samples_embeddings\")"
   ]
  },
  {
   "cell_type": "code",
   "execution_count": 3,
   "metadata": {},
   "outputs": [
    {
     "data": {
      "text/plain": [
       "DatasetDict({\n",
       "    train: Dataset({\n",
       "        features: ['url', 'keywords', 'text', 'sentences', 'summary', 'embedding'],\n",
       "        num_rows: 100\n",
       "    })\n",
       "})"
      ]
     },
     "execution_count": 3,
     "metadata": {},
     "output_type": "execute_result"
    }
   ],
   "source": [
    "dataset"
   ]
  },
  {
   "cell_type": "code",
   "execution_count": 5,
   "metadata": {},
   "outputs": [
    {
     "data": {
      "text/html": [
       "<div>\n",
       "<style scoped>\n",
       "    .dataframe tbody tr th:only-of-type {\n",
       "        vertical-align: middle;\n",
       "    }\n",
       "\n",
       "    .dataframe tbody tr th {\n",
       "        vertical-align: top;\n",
       "    }\n",
       "\n",
       "    .dataframe thead th {\n",
       "        text-align: right;\n",
       "    }\n",
       "</style>\n",
       "<table border=\"1\" class=\"dataframe\">\n",
       "  <thead>\n",
       "    <tr style=\"text-align: right;\">\n",
       "      <th></th>\n",
       "      <th>url</th>\n",
       "      <th>keywords</th>\n",
       "      <th>text</th>\n",
       "      <th>sentences</th>\n",
       "      <th>summary</th>\n",
       "      <th>embedding</th>\n",
       "    </tr>\n",
       "  </thead>\n",
       "  <tbody>\n",
       "    <tr>\n",
       "      <th>0</th>\n",
       "      <td>https://lovdata.no/dokument/LBSTR/avgjorelse/l...</td>\n",
       "      <td>[Strafferett,  Uaktsom kjøring,  Frifinnelse, ...</td>\n",
       "      <td>Oslo statsadvokatembeter har ved tiltalebeslut...</td>\n",
       "      <td>[Oslo statsadvokatembeter har ved tiltalebeslu...</td>\n",
       "      <td>[En 68 gammel mann ble tiltalt for brudd på ve...</td>\n",
       "      <td>[[0.62885857, -0.35170817, -0.18472177, -0.145...</td>\n",
       "    </tr>\n",
       "    <tr>\n",
       "      <th>1</th>\n",
       "      <td>https://lovdata.no/dokument/LGSTR/avgjorelse/l...</td>\n",
       "      <td>[Strafferett,  Voldtektsforsøk,  Tap av førere...</td>\n",
       "      <td>Gulating lagmannsrett avsa dom i straffesak 10...</td>\n",
       "      <td>[Gulating lagmannsrett avsa dom i straffesak 1...</td>\n",
       "      <td>[Etter ny behandling i lagmannsretten ble taxi...</td>\n",
       "      <td>[[0.17032406, -0.84063244, -0.6341672, 0.10112...</td>\n",
       "    </tr>\n",
       "    <tr>\n",
       "      <th>2</th>\n",
       "      <td>https://lovdata.no/dokument/TRSTR/avgjorelse/t...</td>\n",
       "      <td>[Strafferett,  Pålegg,  Menneskerettigheter,  ...</td>\n",
       "      <td>A er født 00/00/1995 og bor i Sverige. Ved for...</td>\n",
       "      <td>[A er født 00/00/1995 og bor i Sverige., Ved f...</td>\n",
       "      <td>[En person ble dømt til å betale en bot på 14 ...</td>\n",
       "      <td>[[0.5228148, -0.11127782, -0.8544761, 0.811276...</td>\n",
       "    </tr>\n",
       "    <tr>\n",
       "      <th>3</th>\n",
       "      <td>https://lovdata.no/dokument/LASIV/avgjorelse/l...</td>\n",
       "      <td>[Trygderett,  Årsakssammenheng,  Trygderettslo...</td>\n",
       "      <td>Saken gjelder overprøving av kjennelse truffet...</td>\n",
       "      <td>[Saken gjelder overprøving av kjennelse truffe...</td>\n",
       "      <td>[En tidligere vogntogsjåfør hadde blitt diagno...</td>\n",
       "      <td>[[-0.81307244, 0.22649448, 1.06477, -0.4344706...</td>\n",
       "    </tr>\n",
       "    <tr>\n",
       "      <th>4</th>\n",
       "      <td>https://lovdata.no/dokument/LBSTR/avgjorelse/l...</td>\n",
       "      <td>[Utlendingsrett,  Utenlandsk arbeidskraft,  Ut...</td>\n",
       "      <td>Politimesteren i Oslo har ved forelegg av 26 f...</td>\n",
       "      <td>[Politimesteren i Oslo har ved forelegg av 26 ...</td>\n",
       "      <td>[Lagmannsrettens flertall kom som tingretten t...</td>\n",
       "      <td>[[0.9948642, -0.014359996, -0.55248684, 0.2033...</td>\n",
       "    </tr>\n",
       "  </tbody>\n",
       "</table>\n",
       "</div>"
      ],
      "text/plain": [
       "                                                 url  \\\n",
       "0  https://lovdata.no/dokument/LBSTR/avgjorelse/l...   \n",
       "1  https://lovdata.no/dokument/LGSTR/avgjorelse/l...   \n",
       "2  https://lovdata.no/dokument/TRSTR/avgjorelse/t...   \n",
       "3  https://lovdata.no/dokument/LASIV/avgjorelse/l...   \n",
       "4  https://lovdata.no/dokument/LBSTR/avgjorelse/l...   \n",
       "\n",
       "                                            keywords  \\\n",
       "0  [Strafferett,  Uaktsom kjøring,  Frifinnelse, ...   \n",
       "1  [Strafferett,  Voldtektsforsøk,  Tap av førere...   \n",
       "2  [Strafferett,  Pålegg,  Menneskerettigheter,  ...   \n",
       "3  [Trygderett,  Årsakssammenheng,  Trygderettslo...   \n",
       "4  [Utlendingsrett,  Utenlandsk arbeidskraft,  Ut...   \n",
       "\n",
       "                                                text  \\\n",
       "0  Oslo statsadvokatembeter har ved tiltalebeslut...   \n",
       "1  Gulating lagmannsrett avsa dom i straffesak 10...   \n",
       "2  A er født 00/00/1995 og bor i Sverige. Ved for...   \n",
       "3  Saken gjelder overprøving av kjennelse truffet...   \n",
       "4  Politimesteren i Oslo har ved forelegg av 26 f...   \n",
       "\n",
       "                                           sentences  \\\n",
       "0  [Oslo statsadvokatembeter har ved tiltalebeslu...   \n",
       "1  [Gulating lagmannsrett avsa dom i straffesak 1...   \n",
       "2  [A er født 00/00/1995 og bor i Sverige., Ved f...   \n",
       "3  [Saken gjelder overprøving av kjennelse truffe...   \n",
       "4  [Politimesteren i Oslo har ved forelegg av 26 ...   \n",
       "\n",
       "                                             summary  \\\n",
       "0  [En 68 gammel mann ble tiltalt for brudd på ve...   \n",
       "1  [Etter ny behandling i lagmannsretten ble taxi...   \n",
       "2  [En person ble dømt til å betale en bot på 14 ...   \n",
       "3  [En tidligere vogntogsjåfør hadde blitt diagno...   \n",
       "4  [Lagmannsrettens flertall kom som tingretten t...   \n",
       "\n",
       "                                           embedding  \n",
       "0  [[0.62885857, -0.35170817, -0.18472177, -0.145...  \n",
       "1  [[0.17032406, -0.84063244, -0.6341672, 0.10112...  \n",
       "2  [[0.5228148, -0.11127782, -0.8544761, 0.811276...  \n",
       "3  [[-0.81307244, 0.22649448, 1.06477, -0.4344706...  \n",
       "4  [[0.9948642, -0.014359996, -0.55248684, 0.2033...  "
      ]
     },
     "execution_count": 5,
     "metadata": {},
     "output_type": "execute_result"
    }
   ],
   "source": [
    "df = dataset[\"train\"].to_pandas()\n",
    "df.head()"
   ]
  },
  {
   "cell_type": "code",
   "execution_count": 8,
   "metadata": {},
   "outputs": [
    {
     "name": "stderr",
     "output_type": "stream",
     "text": [
      "2023-09-11 21:39:38,717 [INFO]: Using 8 omp threads (processes), consider increasing --nb_cores if you have more\n",
      "2023-09-11 21:39:38,720 [INFO]: Launching the whole pipeline 09/11/2023, 21:39:38\n",
      "2023-09-11 21:39:38,720 [INFO]: Reading total number of vectors and dimension 09/11/2023, 21:39:38\n",
      "100%|██████████| 1/1 [00:00<00:00, 2590.68it/s]\n",
      "2023-09-11 21:39:38,776 [INFO]: There are 100 embeddings of dim 768\n",
      "2023-09-11 21:39:38,777 [INFO]: >>> Finished \"Reading total number of vectors and dimension\" in 0.0551 secs\n",
      "2023-09-11 21:39:38,778 [INFO]: \tCompute estimated construction time of the index 09/11/2023, 21:39:38\n",
      "2023-09-11 21:39:38,779 [INFO]: \t\t-> Train: 16.7 minutes\n",
      "2023-09-11 21:39:38,780 [INFO]: \t\t-> Add: 0.0 seconds\n",
      "2023-09-11 21:39:38,782 [INFO]: \t\tTotal: 16.7 minutes\n",
      "2023-09-11 21:39:38,783 [INFO]: \t>>> Finished \"Compute estimated construction time of the index\" in 0.0045 secs\n",
      "2023-09-11 21:39:38,784 [INFO]: \tChecking that your have enough memory available to create the index 09/11/2023, 21:39:38\n",
      "2023-09-11 21:39:38,787 [INFO]: 330.0KB of memory will be needed to build the index (more might be used if you have more)\n",
      "2023-09-11 21:39:38,789 [INFO]: \t>>> Finished \"Checking that your have enough memory available to create the index\" in 0.0023 secs\n",
      "2023-09-11 21:39:38,790 [INFO]: \tSelecting most promising index types given data characteristics 09/11/2023, 21:39:38\n",
      "2023-09-11 21:39:38,791 [INFO]: \t>>> Finished \"Selecting most promising index types given data characteristics\" in 0.0000 secs\n",
      "2023-09-11 21:39:38,793 [INFO]: \tCreating the index 09/11/2023, 21:39:38\n",
      "2023-09-11 21:39:38,794 [INFO]: \t\t-> Instanciate the index Flat 09/11/2023, 21:39:38\n",
      "2023-09-11 21:39:38,798 [INFO]: \t\t>>> Finished \"-> Instanciate the index Flat\" in 0.0030 secs\n",
      "2023-09-11 21:39:38,800 [INFO]: \t\t-> Adding the vectors to the index 09/11/2023, 21:39:38\n",
      "2023-09-11 21:39:38,801 [INFO]: The memory available for adding the vectors is 32.0GB(total available - used by the index)\n",
      "2023-09-11 21:39:38,803 [INFO]: Using a batch size of 325520 (memory overhead 953.7MB)\n",
      "100%|██████████| 1/1 [00:00<00:00, 57.57it/s]\n",
      "2023-09-11 21:39:38,829 [INFO]: \tComputing best hyperparameters for index /home/tollef/git/norwegian-criminal-sts/kripos/vector.index 09/11/2023, 21:39:38\n",
      "2023-09-11 21:39:38,829 [INFO]: \t>>> Finished \"Computing best hyperparameters for index /home/tollef/git/norwegian-criminal-sts/kripos/vector.index\" in 0.0000 secs\n",
      "2023-09-11 21:39:38,831 [INFO]: The best hyperparameters are: \n",
      "2023-09-11 21:39:38,833 [INFO]: \tCompute fast metrics 09/11/2023, 21:39:38\n",
      "  0%|          | 0/1 [00:00<?, ?it/s]\n",
      "2023-09-11 21:39:38,910 [INFO]: \t>>> Finished \"Compute fast metrics\" in 0.0757 secs\n",
      "2023-09-11 21:39:38,911 [INFO]: \tSaving the index on local disk 09/11/2023, 21:39:38\n",
      "2023-09-11 21:39:38,912 [INFO]: \t>>> Finished \"Saving the index on local disk\" in 0.0010 secs\n",
      "2023-09-11 21:39:38,913 [INFO]: \t\t>>> Finished \"-> Adding the vectors to the index\" in 0.1122 secs\n",
      "2023-09-11 21:39:38,914 [INFO]: {\n",
      "2023-09-11 21:39:38,915 [INFO]: \tindex_key: Flat\n",
      "2023-09-11 21:39:38,917 [INFO]: \tindex_param: \n",
      "2023-09-11 21:39:38,918 [INFO]: \tindex_path: /home/tollef/git/norwegian-criminal-sts/kripos/vector.index\n",
      "2023-09-11 21:39:38,919 [INFO]: \tsize in bytes: 307245\n",
      "2023-09-11 21:39:38,920 [INFO]: \tavg_search_speed_ms: 0.026319199707359076\n",
      "2023-09-11 21:39:38,921 [INFO]: \t99p_search_speed_ms: 0.12020698399282992\n",
      "2023-09-11 21:39:38,921 [INFO]: \treconstruction error %: 0.0\n",
      "2023-09-11 21:39:38,922 [INFO]: \tnb vectors: 100\n",
      "2023-09-11 21:39:38,923 [INFO]: \tvectors dimension: 768\n",
      "2023-09-11 21:39:38,924 [INFO]: \tcompression ratio: 0.9998535370795294\n",
      "2023-09-11 21:39:38,925 [INFO]: }\n",
      "2023-09-11 21:39:38,926 [INFO]: \t>>> Finished \"Creating the index\" in 0.1314 secs\n",
      "2023-09-11 21:39:38,926 [INFO]: >>> Finished \"Launching the whole pipeline\" in 0.2057 secs\n"
     ]
    }
   ],
   "source": [
    "import numpy as np\n",
    "from autofaiss import build_index\n",
    "embeddings = [emb[0] for emb in df[\"embedding\"].tolist()]\n",
    "embeddings = np.array(embeddings, dtype=\"float32\")\n",
    "filename = \"vector.index\"\n",
    "index_path = f\"{filename}\"  # optional path changes\n",
    "index, index_infos = build_index(embeddings, save_on_disk=True, index_path=index_path)"
   ]
  }
 ],
 "metadata": {
  "kernelspec": {
   "display_name": "base",
   "language": "python",
   "name": "python3"
  },
  "language_info": {
   "codemirror_mode": {
    "name": "ipython",
    "version": 3
   },
   "file_extension": ".py",
   "mimetype": "text/x-python",
   "name": "python",
   "nbconvert_exporter": "python",
   "pygments_lexer": "ipython3",
   "version": "3.10.12"
  },
  "orig_nbformat": 4,
  "vscode": {
   "interpreter": {
    "hash": "40d3a090f54c6569ab1632332b64b2c03c39dcf918b08424e98f38b5ae0af88f"
   }
  }
 },
 "nbformat": 4,
 "nbformat_minor": 2
}
