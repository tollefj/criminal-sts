{
 "cells": [
  {
   "attachments": {},
   "cell_type": "markdown",
   "metadata": {},
   "source": [
    "# Vector creation\n",
    "This code shows the implementation of the vector database for word, sentence and document embeddings."
   ]
  },
  {
   "cell_type": "code",
   "execution_count": 1,
   "metadata": {},
   "outputs": [],
   "source": [
    "import jsonlines\n",
    "path = \"lovdata_combined.jsonl\"   # used as a sample for multiple documents, in place of the kripos case files\n",
    "with jsonlines.open(path) as reader:\n",
    "    data = list(reader)"
   ]
  },
  {
   "cell_type": "code",
   "execution_count": 2,
   "metadata": {},
   "outputs": [
    {
     "data": {
      "text/plain": [
       "['Retten har som det fremgår foran, kommet til at oppsigelsen av A er gyldig. Utgangspunktet er likevel at dersom søksmål reises innen de frister som loven setter, kan arbeidstakeren fortsette i stillingen så lenge tvisten pågår. Denne rettigheten gjelder også bedriftens daglige leder, jf. Rt-1999-1998.',\n",
       " 'I Ot.prp.nr.49 (2004–2005) s. 239 påpekes imidlertid følgende:',\n",
       " 'Departementet legger til grunn at retten til å fortsette i stillingen, kan være upraktisk å gjennomføre ved oppsigelse av øverste leder i virksomheten. I de tilfellene denne kategorien oppsigelsessak har vært behandlet for domstolene, har retten anerkjent at det må stilles særlige krav til ledere. Departementet legger til grunn at det skal mindre til for at en leder må fratre enn en underordnet ansatt.',\n",
       " 'På denne bakgrunn finner retten «det urimelig at arbeidsforholdet opprettholdes under sakens behandling». Det vises her til begrunnelsen for den saklige oppsigelsen. Daglig leder har en helt sentral posisjon i selskapet. For at styret skal kunne utføre sine oppgaver på en forsvarlig og god måte, er det av avgjørende betydning at det eksisterer et tillitsforhold mellom styret og daglig leder. Et enstemmig styre har her ikke lenger tillit til A som daglig leder. I denne saken foreligger det i tillegg manglende tillit fra flertallet av de ansatte og fra verneombudet. En gjeninntreden her vil da være skadelig for virksomheten og de ansatte. Det vises her også til styrets og flere ansattes opplysning om at de vil slutte dersom A skulle gjeninntre. Samlet sett er det derfor urimelig at arbeidsforholdet opprettholdes under sakens behandling. Kjennelse avsies i samsvar med dette.',\n",
       " '[virksomhet1] har vunnet saken. I samsvar med hovedregelen i tvisteloven § 20-2 første ledd har selskapet da krav på «full erstatning for sine sakskostnader fra motparten». A kan helt eller delvis fritas for erstatningsansvar hvis tungtveiende grunner gjør det rimelig, jf. bestemmelsens tredje ledd. Loven angir selv momenter det ved denne vurdering skal legges særlig vekt på. Disse momentene er imidlertid ikke uttømmende. Retten kan ikke se at tungtveiende grunner tilsier at det er rimelig at A helt eller delvis fritas for erstatningsansvar.',\n",
       " 'Tvisteloven § 20-5 angir at «full erstatning for sakskostnader skal dekke alle partens nødvendige kostnader ved saken som ikke særlige regler gir grunnlag for å unnta». [virksomhet1] har fremmet et salærkrav på samlet kroner 396 000 hvorav kroner 15 000 utgjør utlegg. Motparten har ikke hatt innsigelser til beløpets størrelse.',\n",
       " '[virksomhet1] fremsatte under sakens forberedelse begjæring om at domstolen selv skulle trekke meddommere fra meddommerutvalget og ikke som bestemt i arbeidsmiljøloven § 17-7 annet ledd. Tingretten traff beslutning den 27. juni 2022 der [virksomhet1] ikke ble gitt medhold i dette. Beslutningen ble anket til Agder lagmannsrett som i kjennelse av 10. august 2022 forkastet anken. [virksomhet1]s anke over lagmannsrettens kjennelse ble forkastet av Høyesterett ved kjennelse den 1. september 2022. Tingretten kan ikke se at kostnadene ved dette prosessuelle spørsmålet kan veltes over på motparten. Avgjørelsen av dette prosessuelle spørsmålet har ikke vært nødvendige kostnader med saken. Salærkravet reduseres skjønnsmessig med kroner 20 000 som følge av dette.',\n",
       " 'Dommen og kjennelsen er enstemmig.',\n",
       " 'SLUTNING I KJENNELSE',\n",
       " 'DOMSSLUTNING']"
      ]
     },
     "execution_count": 2,
     "metadata": {},
     "output_type": "execute_result"
    }
   ],
   "source": [
    "example = data[6]\n",
    "example[\"paragraphs\"][-10:]"
   ]
  },
  {
   "cell_type": "code",
   "execution_count": 3,
   "metadata": {},
   "outputs": [
    {
     "data": {
      "text/plain": [
       "'Hun dømmes videre til en bot på 25.000 – tjuefemtusen – kroner, subsidiært fengsel i 15 – femten – dager jf. straffeloven § 54.'"
      ]
     },
     "execution_count": 3,
     "metadata": {},
     "output_type": "execute_result"
    }
   ],
   "source": [
    "sent = 'Hun dømmes videre til en bot på 25.000 – tjuefemtusen – kroner, subsidiært fengsel i 15 – femten – dager jf. straffeloven § 54.'\n",
    "sent"
   ]
  },
  {
   "cell_type": "code",
   "execution_count": 4,
   "metadata": {},
   "outputs": [],
   "source": [
    "import re\n",
    "\n",
    "class LovdataPreprocessor:\n",
    "    def __init__(self):\n",
    "        self.law_match = re.compile(r\"§\\s*\\d+(-\\d+)?\")\n",
    "        self.dash_match = re.compile(r\"–\\s*\\w+\\s*–\")\n",
    "        self.num_match = re.compile(r\"\\d+\\.\\d+(\\.\\d+)?\")\n",
    "        \n",
    "    def preprocess(self, text):\n",
    "        text = self.law_match.sub(\"\", text)\n",
    "        text = self.dash_match.sub(\"\", text)\n",
    "        # illegal_chars = [\"[\", \"]\", \"{\", \"}\"]\n",
    "        # text = \"\".join([c for c in text if c not in illegal_chars])\n",
    "        text = re.sub(r\"\\s+\", \" \", text)\n",
    "        # use num_match to remove dots in numbers (25.000->25000)\n",
    "        text = self.num_match.sub(lambda x: x.group().replace(\".\", \"\"), text)\n",
    "        \n",
    "        return text\n",
    "\n",
    "preprocessor = LovdataPreprocessor()"
   ]
  },
  {
   "cell_type": "code",
   "execution_count": 5,
   "metadata": {},
   "outputs": [],
   "source": [
    "example = \"250.000 100.000.000\"\n",
    "assert preprocessor.preprocess(example) == \"250000 100000000\""
   ]
  },
  {
   "attachments": {},
   "cell_type": "markdown",
   "metadata": {},
   "source": [
    "## To the embedding space!"
   ]
  },
  {
   "cell_type": "code",
   "execution_count": 6,
   "metadata": {},
   "outputs": [],
   "source": [
    "import spacy\n",
    "nlp = spacy.load(\"nb_core_news_lg\")"
   ]
  },
  {
   "cell_type": "code",
   "execution_count": 8,
   "metadata": {},
   "outputs": [],
   "source": [
    "import sys\n",
    "sys.path.append(\"../\")\n",
    "from models.sbert import load, get_centrality, similarity_search\n",
    "sbert = load()"
   ]
  },
  {
   "cell_type": "code",
   "execution_count": 9,
   "metadata": {},
   "outputs": [],
   "source": [
    "def spacy_parser(text):\n",
    "    doc = nlp(text)\n",
    "    for sent in doc.sents:\n",
    "        sent = [token for token in sent if not (len(token) == 1 and not token.is_alpha)]\n",
    "    return doc"
   ]
  },
  {
   "cell_type": "code",
   "execution_count": 10,
   "metadata": {},
   "outputs": [],
   "source": [
    "example =  '[virksomhet1] har vunnet saken. I samsvar med hovedregelen i tvisteloven § 20-2 første ledd har selskapet da krav på «full erstatning for sine sakskostnader fra motparten». A kan helt eller delvis fritas for erstatningsansvar hvis tungtveiende grunner gjør det rimelig, jf. bestemmelsens tredje ledd. Loven angir selv momenter det ved denne vurdering skal legges særlig vekt på. Disse momentene er imidlertid ikke uttømmende. Retten kan ikke se at tungtveiende grunner tilsier at det er rimelig at A helt eller delvis fritas for erstatningsansvar.'\n",
    "\n",
    "doc = nlp(example)"
   ]
  },
  {
   "cell_type": "code",
   "execution_count": 11,
   "metadata": {},
   "outputs": [
    {
     "name": "stdout",
     "output_type": "stream",
     "text": [
      "{'start': 1, 'end': 13, 'span': 'virksomhet1]', 'root': {'text': 'virksomhet1', 'start': 1, 'end': 12, 'span': 'virksomhet1'}}\n",
      "{'start': 25, 'end': 30, 'span': 'saken', 'root': {'text': 'saken', 'start': 25, 'end': 30, 'span': 'saken'}}\n",
      "{'start': 42, 'end': 79, 'span': 'med hovedregelen i tvisteloven § 20-2', 'root': {'text': 'hovedregelen', 'start': 46, 'end': 58, 'span': 'hovedregelen'}}\n",
      "{'start': 80, 'end': 91, 'span': 'første ledd', 'root': {'text': 'ledd', 'start': 87, 'end': 91, 'span': 'ledd'}}\n",
      "{'start': 96, 'end': 105, 'span': 'selskapet', 'root': {'text': 'selskapet', 'start': 96, 'end': 105, 'span': 'selskapet'}}\n",
      "{'start': 114, 'end': 172, 'span': 'på «full erstatning for sine sakskostnader fra motparten»', 'root': {'text': 'erstatning', 'start': 124, 'end': 134, 'span': 'erstatning'}}\n",
      "{'start': 174, 'end': 175, 'span': 'A', 'root': {'text': 'A', 'start': 174, 'end': 175, 'span': 'A'}}\n",
      "{'start': 232, 'end': 252, 'span': 'tungtveiende grunner', 'root': {'text': 'grunner', 'start': 245, 'end': 252, 'span': 'grunner'}}\n",
      "{'start': 275, 'end': 288, 'span': 'bestemmelsens', 'root': {'text': 'bestemmelsens', 'start': 275, 'end': 288, 'span': 'bestemmelsens'}}\n",
      "{'start': 302, 'end': 307, 'span': 'Loven', 'root': {'text': 'Loven', 'start': 302, 'end': 307, 'span': 'Loven'}}\n",
      "{'start': 319, 'end': 327, 'span': 'momenter', 'root': {'text': 'momenter', 'start': 319, 'end': 327, 'span': 'momenter'}}\n",
      "{'start': 364, 'end': 375, 'span': 'særlig vekt', 'root': {'text': 'vekt', 'start': 371, 'end': 375, 'span': 'vekt'}}\n",
      "{'start': 381, 'end': 396, 'span': 'Disse momentene', 'root': {'text': 'momentene', 'start': 387, 'end': 396, 'span': 'momentene'}}\n",
      "{'start': 428, 'end': 434, 'span': 'Retten', 'root': {'text': 'Retten', 'start': 428, 'end': 434, 'span': 'Retten'}}\n",
      "{'start': 450, 'end': 470, 'span': 'tungtveiende grunner', 'root': {'text': 'grunner', 'start': 463, 'end': 470, 'span': 'grunner'}}\n",
      "{'start': 500, 'end': 501, 'span': 'A', 'root': {'text': 'A', 'start': 500, 'end': 501, 'span': 'A'}}\n"
     ]
    }
   ],
   "source": [
    "for np in doc.noun_chunks:\n",
    "    # start and end of root token\n",
    "    root = np.root\n",
    "    root_start = root.idx\n",
    "    root_end = root_start + len(root)\n",
    "\n",
    "    # character idx\n",
    "    np_start = np.start_char\n",
    "    np_end = np.end_char\n",
    "    \n",
    "    obj = {\n",
    "        \"start\": np_start,\n",
    "        \"end\": np_end,\n",
    "        \"span\": doc.text[np_start:np_end],\n",
    "        \"root\": {\n",
    "            \"text\": root.text,\n",
    "            \"start\": root_start,\n",
    "            \"end\": root_end,\n",
    "            \"span\": doc.text[root_start:root_end]\n",
    "        }\n",
    "    }\n",
    "    print(obj)"
   ]
  },
  {
   "cell_type": "code",
   "execution_count": 12,
   "metadata": {},
   "outputs": [
    {
     "data": {
      "text/plain": [
       "[virksomhet1] har vunnet saken. I samsvar med hovedregelen i tvisteloven § 20-2 første ledd har selskapet da krav på «full erstatning for sine sakskostnader fra motparten». A kan helt eller delvis fritas for erstatningsansvar hvis tungtveiende grunner gjør det rimelig, jf. bestemmelsens tredje ledd. Loven angir selv momenter det ved denne vurdering skal legges særlig vekt på. Disse momentene er imidlertid ikke uttømmende. Retten kan ikke se at tungtveiende grunner tilsier at det er rimelig at A helt eller delvis fritas for erstatningsansvar."
      ]
     },
     "execution_count": 12,
     "metadata": {},
     "output_type": "execute_result"
    }
   ],
   "source": [
    "doc"
   ]
  },
  {
   "cell_type": "code",
   "execution_count": 13,
   "metadata": {},
   "outputs": [
    {
     "name": "stdout",
     "output_type": "stream",
     "text": [
      "A PER\n",
      "A PER\n"
     ]
    }
   ],
   "source": [
    "for ent in doc.ents:\n",
    "    print(ent.text, ent.label_)"
   ]
  },
  {
   "cell_type": "code",
   "execution_count": 16,
   "metadata": {},
   "outputs": [
    {
     "name": "stderr",
     "output_type": "stream",
     "text": [
      "100%|██████████| 2/2 [00:05<00:00,  2.92s/it]\n"
     ]
    }
   ],
   "source": [
    "from tqdm import tqdm\n",
    "from collections import defaultdict\n",
    "\n",
    "def parse_id(doc):\n",
    "    return doc[\"id\"].split(\"/\")[-1]\n",
    "\n",
    "parsed_docs = defaultdict(list)\n",
    "\n",
    "SUBSET = data[:2]  # change to data for the full file\n",
    "for doc in tqdm(SUBSET):\n",
    "    _id = parse_id(doc)\n",
    "    for para_id, para in enumerate(doc[\"paragraphs\"]):\n",
    "        para_text = preprocessor.preprocess(para)\n",
    "        para_doc = spacy_parser(para_text)\n",
    "        for sent_id, sent in enumerate(para_doc.sents):\n",
    "            if len(sent) <= 1:\n",
    "                continue\n",
    "\n",
    "            # simply add the number of found entities and noun phrases to the sentence\n",
    "            # this is to weight the matches accordingly\n",
    "            # e.g. 2x weight for each entity and 1.5x weight for each noun phrase\n",
    "            num_nps = len(list(sent.noun_chunks))\n",
    "            num_ents = len(list(sent.ents))\n",
    "\n",
    "            # check if sent.text has been seen before\n",
    "            # append the current para_id and sent_id to the existing object\n",
    "            for obj in parsed_docs[_id]:\n",
    "                if obj[\"sent_text\"] == sent.text:\n",
    "                    obj[\"para_id\"].append(para_id)\n",
    "                    obj[\"sent_id\"].append(sent_id)\n",
    "                    break\n",
    "            else:\n",
    "                parsed_docs[_id].append({\n",
    "                    \"id\": f\"{_id}_{para_id}_{sent_id}\",\n",
    "                    \"para_id\": [para_id],\n",
    "                    \"sent_id\": [sent_id],\n",
    "                    \"num_nps\": num_nps,\n",
    "                    \"num_ents\": num_ents,\n",
    "                    \"sent_text\": sent.text\n",
    "                })"
   ]
  },
  {
   "cell_type": "code",
   "execution_count": 17,
   "metadata": {},
   "outputs": [
    {
     "data": {
      "text/html": [
       "<div>\n",
       "<style scoped>\n",
       "    .dataframe tbody tr th:only-of-type {\n",
       "        vertical-align: middle;\n",
       "    }\n",
       "\n",
       "    .dataframe tbody tr th {\n",
       "        vertical-align: top;\n",
       "    }\n",
       "\n",
       "    .dataframe thead th {\n",
       "        text-align: right;\n",
       "    }\n",
       "</style>\n",
       "<table border=\"1\" class=\"dataframe\">\n",
       "  <thead>\n",
       "    <tr style=\"text-align: right;\">\n",
       "      <th></th>\n",
       "      <th>id</th>\n",
       "      <th>para_id</th>\n",
       "      <th>sent_id</th>\n",
       "      <th>num_nps</th>\n",
       "      <th>num_ents</th>\n",
       "      <th>sent_text</th>\n",
       "    </tr>\n",
       "  </thead>\n",
       "  <tbody>\n",
       "    <tr>\n",
       "      <th>0</th>\n",
       "      <td>tagd-2021-84238_0_0</td>\n",
       "      <td>[0]</td>\n",
       "      <td>[0]</td>\n",
       "      <td>2</td>\n",
       "      <td>0</td>\n",
       "      <td>Skattemyndighetene har over tid ført kontroll ...</td>\n",
       "    </tr>\n",
       "    <tr>\n",
       "      <th>1</th>\n",
       "      <td>tagd-2021-84238_0_1</td>\n",
       "      <td>[0]</td>\n",
       "      <td>[1]</td>\n",
       "      <td>3</td>\n",
       "      <td>2</td>\n",
       "      <td>Det er D (tidligere D), sammen med E, som oppl...</td>\n",
       "    </tr>\n",
       "    <tr>\n",
       "      <th>2</th>\n",
       "      <td>tagd-2021-84238_1_0</td>\n",
       "      <td>[1]</td>\n",
       "      <td>[0]</td>\n",
       "      <td>6</td>\n",
       "      <td>4</td>\n",
       "      <td>De tre saksøkte er i familie med D; C er hans ...</td>\n",
       "    </tr>\n",
       "    <tr>\n",
       "      <th>3</th>\n",
       "      <td>tagd-2021-84238_1_1</td>\n",
       "      <td>[1]</td>\n",
       "      <td>[1]</td>\n",
       "      <td>3</td>\n",
       "      <td>0</td>\n",
       "      <td>De saksøkte har hatt formelle roller i flere a...</td>\n",
       "    </tr>\n",
       "    <tr>\n",
       "      <th>4</th>\n",
       "      <td>tagd-2021-84238_2_0</td>\n",
       "      <td>[2]</td>\n",
       "      <td>[0]</td>\n",
       "      <td>1</td>\n",
       "      <td>2</td>\n",
       "      <td>Selskapene de var delaktige i skulle ha aktivi...</td>\n",
       "    </tr>\n",
       "  </tbody>\n",
       "</table>\n",
       "</div>"
      ],
      "text/plain": [
       "                    id para_id sent_id  num_nps  num_ents  \\\n",
       "0  tagd-2021-84238_0_0     [0]     [0]        2         0   \n",
       "1  tagd-2021-84238_0_1     [0]     [1]        3         2   \n",
       "2  tagd-2021-84238_1_0     [1]     [0]        6         4   \n",
       "3  tagd-2021-84238_1_1     [1]     [1]        3         0   \n",
       "4  tagd-2021-84238_2_0     [2]     [0]        1         2   \n",
       "\n",
       "                                           sent_text  \n",
       "0  Skattemyndighetene har over tid ført kontroll ...  \n",
       "1  Det er D (tidligere D), sammen med E, som oppl...  \n",
       "2  De tre saksøkte er i familie med D; C er hans ...  \n",
       "3  De saksøkte har hatt formelle roller i flere a...  \n",
       "4  Selskapene de var delaktige i skulle ha aktivi...  "
      ]
     },
     "execution_count": 17,
     "metadata": {},
     "output_type": "execute_result"
    }
   ],
   "source": [
    "import pandas as pd\n",
    "# convert parsed_docs to dataframe\n",
    "df = pd.DataFrame([obj for doc in parsed_docs.values() for obj in doc])\n",
    "df.head()"
   ]
  },
  {
   "cell_type": "code",
   "execution_count": 18,
   "metadata": {},
   "outputs": [
    {
     "data": {
      "text/plain": [
       "(627, 6)"
      ]
     },
     "execution_count": 18,
     "metadata": {},
     "output_type": "execute_result"
    }
   ],
   "source": [
    "df.shape"
   ]
  },
  {
   "cell_type": "code",
   "execution_count": 19,
   "metadata": {},
   "outputs": [
    {
     "data": {
      "application/vnd.jupyter.widget-view+json": {
       "model_id": "20d54a7c2d4c492fa5a6937374442d51",
       "version_major": 2,
       "version_minor": 0
      },
      "text/plain": [
       "Batches:   0%|          | 0/20 [00:00<?, ?it/s]"
      ]
     },
     "metadata": {},
     "output_type": "display_data"
    }
   ],
   "source": [
    "# compute sbert embeddings\n",
    "all_sentences = df[\"sent_text\"].tolist()\n",
    "sbert_embeddings = sbert.encode(all_sentences, show_progress_bar=True)"
   ]
  },
  {
   "cell_type": "code",
   "execution_count": 20,
   "metadata": {},
   "outputs": [],
   "source": [
    "df[\"sbert_768\"] = sbert_embeddings.tolist()"
   ]
  },
  {
   "cell_type": "code",
   "execution_count": 21,
   "metadata": {},
   "outputs": [
    {
     "data": {
      "text/html": [
       "<div>\n",
       "<style scoped>\n",
       "    .dataframe tbody tr th:only-of-type {\n",
       "        vertical-align: middle;\n",
       "    }\n",
       "\n",
       "    .dataframe tbody tr th {\n",
       "        vertical-align: top;\n",
       "    }\n",
       "\n",
       "    .dataframe thead th {\n",
       "        text-align: right;\n",
       "    }\n",
       "</style>\n",
       "<table border=\"1\" class=\"dataframe\">\n",
       "  <thead>\n",
       "    <tr style=\"text-align: right;\">\n",
       "      <th></th>\n",
       "      <th>id</th>\n",
       "      <th>para_id</th>\n",
       "      <th>sent_id</th>\n",
       "      <th>num_nps</th>\n",
       "      <th>num_ents</th>\n",
       "      <th>sent_text</th>\n",
       "      <th>sbert_768</th>\n",
       "    </tr>\n",
       "  </thead>\n",
       "  <tbody>\n",
       "    <tr>\n",
       "      <th>0</th>\n",
       "      <td>tagd-2021-84238_0_0</td>\n",
       "      <td>[0]</td>\n",
       "      <td>[0]</td>\n",
       "      <td>2</td>\n",
       "      <td>0</td>\n",
       "      <td>Skattemyndighetene har over tid ført kontroll ...</td>\n",
       "      <td>[0.0014578121481463313, -0.41081535816192627, ...</td>\n",
       "    </tr>\n",
       "    <tr>\n",
       "      <th>1</th>\n",
       "      <td>tagd-2021-84238_0_1</td>\n",
       "      <td>[0]</td>\n",
       "      <td>[1]</td>\n",
       "      <td>3</td>\n",
       "      <td>2</td>\n",
       "      <td>Det er D (tidligere D), sammen med E, som oppl...</td>\n",
       "      <td>[1.3350529670715332, -0.050390999764204025, 1....</td>\n",
       "    </tr>\n",
       "    <tr>\n",
       "      <th>2</th>\n",
       "      <td>tagd-2021-84238_1_0</td>\n",
       "      <td>[1]</td>\n",
       "      <td>[0]</td>\n",
       "      <td>6</td>\n",
       "      <td>4</td>\n",
       "      <td>De tre saksøkte er i familie med D; C er hans ...</td>\n",
       "      <td>[0.9660213589668274, -0.2151397466659546, 1.25...</td>\n",
       "    </tr>\n",
       "    <tr>\n",
       "      <th>3</th>\n",
       "      <td>tagd-2021-84238_1_1</td>\n",
       "      <td>[1]</td>\n",
       "      <td>[1]</td>\n",
       "      <td>3</td>\n",
       "      <td>0</td>\n",
       "      <td>De saksøkte har hatt formelle roller i flere a...</td>\n",
       "      <td>[-0.6119834184646606, 0.1516796201467514, 1.15...</td>\n",
       "    </tr>\n",
       "    <tr>\n",
       "      <th>4</th>\n",
       "      <td>tagd-2021-84238_2_0</td>\n",
       "      <td>[2]</td>\n",
       "      <td>[0]</td>\n",
       "      <td>1</td>\n",
       "      <td>2</td>\n",
       "      <td>Selskapene de var delaktige i skulle ha aktivi...</td>\n",
       "      <td>[0.7227107882499695, -1.1757646799087524, 1.02...</td>\n",
       "    </tr>\n",
       "  </tbody>\n",
       "</table>\n",
       "</div>"
      ],
      "text/plain": [
       "                    id para_id sent_id  num_nps  num_ents  \\\n",
       "0  tagd-2021-84238_0_0     [0]     [0]        2         0   \n",
       "1  tagd-2021-84238_0_1     [0]     [1]        3         2   \n",
       "2  tagd-2021-84238_1_0     [1]     [0]        6         4   \n",
       "3  tagd-2021-84238_1_1     [1]     [1]        3         0   \n",
       "4  tagd-2021-84238_2_0     [2]     [0]        1         2   \n",
       "\n",
       "                                           sent_text  \\\n",
       "0  Skattemyndighetene har over tid ført kontroll ...   \n",
       "1  Det er D (tidligere D), sammen med E, som oppl...   \n",
       "2  De tre saksøkte er i familie med D; C er hans ...   \n",
       "3  De saksøkte har hatt formelle roller i flere a...   \n",
       "4  Selskapene de var delaktige i skulle ha aktivi...   \n",
       "\n",
       "                                           sbert_768  \n",
       "0  [0.0014578121481463313, -0.41081535816192627, ...  \n",
       "1  [1.3350529670715332, -0.050390999764204025, 1....  \n",
       "2  [0.9660213589668274, -0.2151397466659546, 1.25...  \n",
       "3  [-0.6119834184646606, 0.1516796201467514, 1.15...  \n",
       "4  [0.7227107882499695, -1.1757646799087524, 1.02...  "
      ]
     },
     "execution_count": 21,
     "metadata": {},
     "output_type": "execute_result"
    }
   ],
   "source": [
    "df.head()"
   ]
  },
  {
   "cell_type": "code",
   "execution_count": 22,
   "metadata": {},
   "outputs": [
    {
     "data": {
      "text/plain": [
       "4.092142105102539"
      ]
     },
     "execution_count": 22,
     "metadata": {},
     "output_type": "execute_result"
    }
   ],
   "source": [
    "# memory usage of dataframe:\n",
    "df_mb = df.memory_usage(deep=True).sum() / 1024**2\n",
    "df_mb"
   ]
  },
  {
   "cell_type": "code",
   "execution_count": 24,
   "metadata": {},
   "outputs": [],
   "source": [
    "df.to_pickle(\"dataframe.pkl\")"
   ]
  }
 ],
 "metadata": {
  "kernelspec": {
   "display_name": "base",
   "language": "python",
   "name": "python3"
  },
  "language_info": {
   "codemirror_mode": {
    "name": "ipython",
    "version": 3
   },
   "file_extension": ".py",
   "mimetype": "text/x-python",
   "name": "python",
   "nbconvert_exporter": "python",
   "pygments_lexer": "ipython3",
   "version": "3.10.12"
  },
  "orig_nbformat": 4,
  "vscode": {
   "interpreter": {
    "hash": "40d3a090f54c6569ab1632332b64b2c03c39dcf918b08424e98f38b5ae0af88f"
   }
  }
 },
 "nbformat": 4,
 "nbformat_minor": 2
}
