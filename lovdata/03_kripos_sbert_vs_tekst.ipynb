{
 "cells": [
  {
   "cell_type": "markdown",
   "metadata": {},
   "source": [
    "# Vector creation\n",
    "This code shows the implementation of the vector database for word, sentence and document embeddings."
   ]
  },
  {
   "cell_type": "code",
   "execution_count": null,
   "metadata": {
    "tags": []
   },
   "outputs": [],
   "source": [
    "import jsonlines\n",
    "path = \"path_to_kripos_case.jsonl\"\n",
    "with jsonlines.open(path) as reader:\n",
    "    data = list(reader)"
   ]
  },
  {
   "cell_type": "code",
   "execution_count": null,
   "metadata": {
    "tags": []
   },
   "outputs": [],
   "source": [
    "example = data[0]\n",
    "example[\"pages\"]"
   ]
  },
  {
   "cell_type": "code",
   "execution_count": null,
   "metadata": {
    "tags": []
   },
   "outputs": [],
   "source": [
    "import re\n",
    "\n",
    "class LovdataPreprocessor:\n",
    "    def __init__(self):\n",
    "        self.law_match = re.compile(r\"§\\s*\\d+(-\\d+)?\")\n",
    "        self.dash_match = re.compile(r\"–\\s*\\w+\\s*–\")\n",
    "        self.num_match = re.compile(r\"\\d+\\.\\d+(\\.\\d+)?\")\n",
    "        \n",
    "    def preprocess(self, text):\n",
    "        text = self.law_match.sub(\"\", text)\n",
    "        text = self.dash_match.sub(\"\", text)\n",
    "        text = re.sub(r\"\\s+\", \" \", text)\n",
    "        \n",
    "        return text\n",
    "\n",
    "preprocessor = LovdataPreprocessor()"
   ]
  },
  {
   "cell_type": "code",
   "execution_count": null,
   "metadata": {
    "tags": []
   },
   "outputs": [],
   "source": [
    "import spacy\n",
    "nlp = spacy.load(\"nb_core_news_lg\")"
   ]
  },
  {
   "cell_type": "code",
   "execution_count": null,
   "metadata": {
    "tags": []
   },
   "outputs": [],
   "source": [
    "import sys\n",
    "sys.path.append(\"../\")\n",
    "from models.sbert import load, get_centrality, similarity_search\n",
    "sbert = load(model_or_path=\"../nb-sbert-base\")"
   ]
  },
  {
   "cell_type": "code",
   "execution_count": null,
   "metadata": {
    "tags": []
   },
   "outputs": [],
   "source": [
    "from tqdm import tqdm\n",
    "from collections import defaultdict\n",
    "from nltk.tokenize import sent_tokenize\n",
    "\n",
    "parsed_docs = defaultdict(list)\n",
    "\n",
    "for doc in tqdm(data):\n",
    "    _id = doc[\"id\"]\n",
    "    for page, sentences in doc[\"pages\"].items():\n",
    "        sentences = [preprocessor.preprocess(s) for s in sentences if s is not None]\n",
    "        # we don't trust the sentences from the OCR data:\n",
    "        raw_text = \" \".join(sentences)\n",
    "        raw_text = re.sub(r\"\\s+\", \" \", raw_text)\n",
    "        sentences = sent_tokenize(raw_text, language=\"norwegian\")\n",
    "        #page_doc = nlp(raw_text)\n",
    "        #for sent_id, sent in enumerate(page_doc.sents):\n",
    "        for sent_id, sent in enumerate(sentences):\n",
    "            if not sent or len(sent) <= 10:\n",
    "                continue\n",
    "            sent = nlp(sent)\n",
    "            # simply add the number of found entities and noun phrases to the sentence\n",
    "            # this is to weight the matches accordingly\n",
    "            # e.g. 2x weight for each entity and 1.5x weight for each noun phrase\n",
    "            num_nps = len(list(sent.noun_chunks))\n",
    "            num_ents = len(list(sent.ents))\n",
    "\n",
    "            # check if sent.text has been seen before\n",
    "            # append the current para_id and sent_id to the existing object\n",
    "            for obj in parsed_docs[_id]:\n",
    "                if obj[\"sent_text\"] == sent.text:\n",
    "                    obj[\"page_id\"].append(page)\n",
    "                    obj[\"sent_id\"].append(sent_id)\n",
    "                    break\n",
    "            else:\n",
    "                parsed_docs[_id].append({\n",
    "                    \"id\": f\"{_id}_{page}_{sent_id}\",\n",
    "                    \"page_id\": [page],\n",
    "                    \"sent_id\": [sent_id],\n",
    "                    \"num_nps\": num_nps,\n",
    "                    \"num_ents\": num_ents,\n",
    "                    \"sent_text\": sent.text\n",
    "                })\n",
    "            "
   ]
  },
  {
   "cell_type": "code",
   "execution_count": null,
   "metadata": {
    "tags": []
   },
   "outputs": [],
   "source": [
    "import pandas as pd\n",
    "# convert parsed_docs to dataframe\n",
    "df = pd.DataFrame([obj for doc in parsed_docs.values() for obj in doc])\n",
    "df.head()"
   ]
  },
  {
   "cell_type": "code",
   "execution_count": null,
   "metadata": {
    "tags": []
   },
   "outputs": [],
   "source": [
    "df.shape"
   ]
  },
  {
   "cell_type": "code",
   "execution_count": null,
   "metadata": {
    "tags": []
   },
   "outputs": [],
   "source": [
    "# compute sbert embeddings\n",
    "all_sentences = df[\"sent_text\"].tolist()\n",
    "sbert_embeddings = sbert.encode(all_sentences, show_progress_bar=True)"
   ]
  },
  {
   "cell_type": "code",
   "execution_count": null,
   "metadata": {
    "tags": []
   },
   "outputs": [],
   "source": [
    "df[\"sbert_768\"] = sbert_embeddings.tolist()"
   ]
  },
  {
   "cell_type": "code",
   "execution_count": null,
   "metadata": {
    "tags": []
   },
   "outputs": [],
   "source": [
    "df.head()"
   ]
  },
  {
   "cell_type": "code",
   "execution_count": null,
   "metadata": {
    "tags": []
   },
   "outputs": [],
   "source": [
    "import os\n",
    "os.makedirs(\"../data/vectors\", exist_ok=True)\n",
    "df.to_pickle(\"../data/vectors/dataframe.pkl\")"
   ]
  }
 ],
 "metadata": {
  "kernelspec": {
   "display_name": "Python 3",
   "language": "python",
   "name": "python3"
  },
  "language_info": {
   "codemirror_mode": {
    "name": "ipython",
    "version": 3
   },
   "file_extension": ".py",
   "mimetype": "text/x-python",
   "name": "python",
   "nbconvert_exporter": "python",
   "pygments_lexer": "ipython3",
   "version": "3.8.10"
  },
  "vscode": {
   "interpreter": {
    "hash": "40d3a090f54c6569ab1632332b64b2c03c39dcf918b08424e98f38b5ae0af88f"
   }
  }
 },
 "nbformat": 4,
 "nbformat_minor": 4
}
